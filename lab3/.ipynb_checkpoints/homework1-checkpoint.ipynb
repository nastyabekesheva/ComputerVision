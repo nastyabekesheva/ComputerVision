{
  "cells": [
    {
      "cell_type": "markdown",
      "metadata": {
        "id": "_dnMuBqQGwGe"
      },
      "source": [
        "# Prac 03. Part 1\n",
        "\n",
        "For this homework you are going to implement the **unsharp masking** filter (USM). It is a technique to improve the sharpness of an image by combining the image with its blurred (unsharp) version. See the Wikipedia [page](https://en.wikipedia.org/wiki/Unsharp_masking) for more details.\n",
        "\n",
        "### Unsharp Masking (USP)\n",
        "The USM technique consists of the following steps:\n",
        "* Load the image you will be working with.\n",
        "* Create a blurred (unsharp) version of the original image.\n",
        "* Add the unsharp image (with a certain **weight**) to the original.\n",
        "\n",
        "To sum it up, the USM performs the following operation:\n",
        "\n",
        "`sharpened = original + (original − unsharp) × amount`\n",
        "\n",
        "Even though we provide you an image to work with, you are welcome to use your own images :-)"
      ]
    },
    {
      "cell_type": "code",
      "execution_count": null,
      "metadata": {
        "id": "ZoPR8-GmGwGn"
      },
      "outputs": [],
      "source": [
        "import cv2\n",
        "import numpy as np\n",
        "from matplotlib import pyplot as plt\n",
        "plt.rcParams['figure.figsize'] = [15, 10]"
      ]
    },
    {
      "cell_type": "code",
      "execution_count": null,
      "metadata": {
        "id": "xddj0QxpGwGs"
      },
      "outputs": [],
      "source": [
        "img = cv2.imread('../data/kodim01.png')\n",
        "img = cv2.cvtColor(img, cv2.COLOR_BGR2RGB)\n",
        "plt.imshow(img)"
      ]
    },
    {
      "cell_type": "code",
      "execution_count": null,
      "metadata": {
        "id": "44IeHKJyGwGt"
      },
      "outputs": [],
      "source": [
        "# Create a blurred (unsharp) version of the original image (you can use Gaussian blurring)\n",
        "unsharp ="
      ]
    },
    {
      "cell_type": "code",
      "execution_count": null,
      "metadata": {
        "id": "V9gzn9aMGwGt"
      },
      "outputs": [],
      "source": [
        "# Create the difference image (original − unsharp)\n",
        "# Note: Remember that you are working with uint8 data types. Any addition or substractions\n",
        "# might result in overflow or underflow, respectively. You can prevent this by casting the images to float.\n",
        "diff ="
      ]
    },
    {
      "cell_type": "code",
      "execution_count": null,
      "metadata": {
        "id": "Eq87NDfeGwGt"
      },
      "outputs": [],
      "source": [
        "# Apply USM to get the resulting image using `sharpened = original + (original − unsharp) × amount`\n",
        "# Note: Again, take care of underflows/overflows if necessary.\n",
        "sharpened ="
      ]
    },
    {
      "cell_type": "markdown",
      "metadata": {
        "id": "_T86qErLGwGt"
      },
      "source": [
        "### Questions\n",
        "* What is a good (reasonable) value for the `amount` parameter?\n",
        " * What happens if it is too small?\n",
        " * What happens if it is too large?"
      ]
    }
  ],
  "metadata": {
    "kernelspec": {
      "display_name": "Python 3 (ipykernel)",
      "language": "python",
      "name": "python3"
    },
    "language_info": {
      "codemirror_mode": {
        "name": "ipython",
        "version": 3
      },
      "file_extension": ".py",
      "mimetype": "text/x-python",
      "name": "python",
      "nbconvert_exporter": "python",
      "pygments_lexer": "ipython3",
      "version": "3.10.9"
    },
    "colab": {
      "provenance": []
    }
  },
  "nbformat": 4,
  "nbformat_minor": 0
}